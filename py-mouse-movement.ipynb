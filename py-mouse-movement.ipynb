{
 "cells": [
  {
   "cell_type": "markdown",
   "metadata": {},
   "source": [
    "# Play with Mouse from Python"
   ]
  },
  {
   "cell_type": "code",
   "execution_count": 1,
   "metadata": {},
   "outputs": [
    {
     "name": "stdout",
     "output_type": "stream",
     "text": [
      "Collecting pyautogui\n",
      "\u001b[?25l  Downloading https://files.pythonhosted.org/packages/a3/69/c8b0cab7cbc6badbc0079392e5d4b50f3e4be63e0091f0f414bd1ea4ac07/PyAutoGUI-0.9.50.tar.gz (57kB)\n",
      "\u001b[K     |████████████████████████████████| 61kB 1.0MB/s eta 0:00:011\n",
      "\u001b[?25hCollecting pymsgbox (from pyautogui)\n",
      "  Downloading https://files.pythonhosted.org/packages/e0/d5/148383b342b621a23cb340e7b378122d3fd53a631c5e5142a5c869bdfa5b/PyMsgBox-1.0.8.tar.gz\n",
      "  Installing build dependencies ... \u001b[?25ldone\n",
      "\u001b[?25h  Getting requirements to build wheel ... \u001b[?25ldone\n",
      "\u001b[?25h    Preparing wheel metadata ... \u001b[?25ldone\n",
      "\u001b[?25hCollecting PyTweening>=1.0.1 (from pyautogui)\n",
      "  Downloading https://files.pythonhosted.org/packages/b9/f8/c32a58d6e4dff8aa5c27e907194d69f3b57e525c2e4af96f39c6e9c854d2/PyTweening-1.0.3.zip\n",
      "Collecting pyscreeze>=0.1.21 (from pyautogui)\n",
      "  Downloading https://files.pythonhosted.org/packages/b7/7d/a0e85da28a96e2ff2f39e682ff84eb92501b564883fde87d92aee29966a2/PyScreeze-0.1.26.tar.gz\n",
      "Collecting pygetwindow>=0.0.5 (from pyautogui)\n",
      "  Downloading https://files.pythonhosted.org/packages/28/8b/f1a396f8ec5923e11246fabe29419a6dd8949a0360337fe6ad0f28a9c33b/PyGetWindow-0.0.8.tar.gz\n",
      "Collecting mouseinfo (from pyautogui)\n",
      "  Downloading https://files.pythonhosted.org/packages/28/fa/b2ba8229b9381e8f6381c1dcae6f4159a7f72349e414ed19cfbbd1817173/MouseInfo-0.1.3.tar.gz\n",
      "Collecting pyobjc-core (from pyautogui)\n",
      "\u001b[?25l  Downloading https://files.pythonhosted.org/packages/fe/bc/f21b608d67e78d91bfd7a3d0342245d293fee91e13e2793e985486d5ca28/pyobjc_core-6.2.1-cp37-cp37m-macosx_10_9_x86_64.whl (293kB)\n",
      "\u001b[K     |████████████████████████████████| 296kB 2.0MB/s eta 0:00:01\n",
      "\u001b[?25hCollecting pyobjc (from pyautogui)\n",
      "  Downloading https://files.pythonhosted.org/packages/61/77/bf1f0cac241b7d696e02cd9c4764f73d12b336a2b37000860d7a3aa93467/pyobjc-6.2.1-py3-none-any.whl\n",
      "Requirement already satisfied: Pillow>=5.2.0 in /Users/dimpchax/opt/anaconda3/lib/python3.7/site-packages (from pyscreeze>=0.1.21->pyautogui) (6.2.0)\n",
      "Collecting pyrect (from pygetwindow>=0.0.5->pyautogui)\n",
      "  Downloading https://files.pythonhosted.org/packages/2f/68/bd7bf96fc44217e769f27912e6c9bb3e9987cba286054af6120448ce8212/PyRect-0.1.4.tar.gz\n",
      "Collecting pyperclip (from mouseinfo->pyautogui)\n",
      "  Downloading https://files.pythonhosted.org/packages/f6/5b/55866e1cde0f86f5eec59dab5de8a66628cb0d53da74b8dbc15ad8dabda3/pyperclip-1.8.0.tar.gz\n",
      "Collecting rubicon-objc (from mouseinfo->pyautogui)\n",
      "\u001b[?25l  Downloading https://files.pythonhosted.org/packages/c7/1d/ef53fc55e035f4502a120d722d05b612830ffb0a5e923440f83bea091c7b/rubicon_objc-0.3.1-py2.py3-none-any.whl (66kB)\n",
      "\u001b[K     |████████████████████████████████| 71kB 2.4MB/s eta 0:00:011\n",
      "\u001b[?25hCollecting pyobjc-framework-ExceptionHandling==6.2.1 (from pyobjc->pyautogui)\n",
      "  Downloading https://files.pythonhosted.org/packages/b3/28/fc3df57963bc04163eec8886ed55254eeba7fa020237ec86eb8aa280df0a/pyobjc_framework_ExceptionHandling-6.2.1-py2.py3-none-any.whl\n",
      "Collecting pyobjc-framework-DiskArbitration==6.2.1 (from pyobjc->pyautogui)\n",
      "  Downloading https://files.pythonhosted.org/packages/15/b1/019dfc19168a0555529acb3f56eafd076b9d6799ee44e6698dfac8af2960/pyobjc_framework_DiskArbitration-6.2.1-py2.py3-none-any.whl\n",
      "Collecting pyobjc-framework-CoreMediaIO==6.2.1; platform_release >= \"11.0\" (from pyobjc->pyautogui)\n",
      "  Downloading https://files.pythonhosted.org/packages/b9/2d/77764fe89c51ce3c6fa6222cbc22381537595112cbbac35181be6c08a1c9/pyobjc_framework_CoreMediaIO-6.2.1-cp36-abi3-macosx_10_9_x86_64.whl\n",
      "Collecting pyobjc-framework-StoreKit==6.2.1; platform_release >= \"11.0\" (from pyobjc->pyautogui)\n",
      "  Downloading https://files.pythonhosted.org/packages/12/10/63cf529209114be837e1223b4adfba22468a29cd5825ddd41ac703a48218/pyobjc_framework_StoreKit-6.2.1-cp36-abi3-macosx_10_9_x86_64.whl\n",
      "Collecting pyobjc-framework-GameKit==6.2.1; platform_release >= \"12.0\" (from pyobjc->pyautogui)\n",
      "  Downloading https://files.pythonhosted.org/packages/bf/e2/482ede1192d0ca1d85a1fc227145c9c85cea0c57e26bf3d9b04fa837623b/pyobjc_framework_GameKit-6.2.1-cp36-abi3-macosx_10_9_x86_64.whl\n",
      "Collecting pyobjc-framework-Security==6.2.1 (from pyobjc->pyautogui)\n",
      "  Downloading https://files.pythonhosted.org/packages/45/fe/f0091ccbaf7a16a1db2509e21de9506aebb4c024dc803cc44ae461a1b346/pyobjc_framework_Security-6.2.1-cp36-abi3-macosx_10_9_x86_64.whl\n",
      "Collecting pyobjc-framework-NaturalLanguage==6.2.1; platform_release >= \"18.0\" (from pyobjc->pyautogui)\n",
      "  Downloading https://files.pythonhosted.org/packages/50/bb/b4db80d08c07f73729b65e633fa40dc98d4cd0bd2f49d4b0c7ce72766603/pyobjc_framework_NaturalLanguage-6.2.1-py2.py3-none-any.whl\n",
      "Collecting pyobjc-framework-MediaAccessibility==6.2.1; platform_release >= \"13.0\" (from pyobjc->pyautogui)\n",
      "  Downloading https://files.pythonhosted.org/packages/d5/9a/f289b01e8472519d58c41acbf5ed53c178654b9e4f2e789b31db534fd0a8/pyobjc_framework_MediaAccessibility-6.2.1-py2.py3-none-any.whl\n",
      "Collecting pyobjc-framework-MediaLibrary==6.2.1; platform_release >= \"13.0\" (from pyobjc->pyautogui)\n",
      "  Downloading https://files.pythonhosted.org/packages/ba/fe/1a5a633ff157f27e89005050275000322753c24d66201935df4e56f67b7a/pyobjc_framework_MediaLibrary-6.2.1-py2.py3-none-any.whl\n",
      "Collecting pyobjc-framework-AppleScriptObjC==6.2.1; platform_release >= \"10.0\" (from pyobjc->pyautogui)\n",
      "  Downloading https://files.pythonhosted.org/packages/d7/f4/3daf2d542cf03a2c4e5b67801b9b26ea328cfbf1248cb374516308077331/pyobjc_framework_AppleScriptObjC-6.2.1-py2.py3-none-any.whl\n",
      "Collecting pyobjc-framework-CalendarStore==6.2.1; platform_release >= \"9.0\" (from pyobjc->pyautogui)\n",
      "  Downloading https://files.pythonhosted.org/packages/07/a2/d329d552f68e1e1f8257d414e18573f372fa8abd69b206d5a9ed3b608590/pyobjc_framework_CalendarStore-6.2.1-py2.py3-none-any.whl\n",
      "Collecting pyobjc-framework-Metal==6.2.1; platform_release >= \"15.0\" (from pyobjc->pyautogui)\n",
      "  Downloading https://files.pythonhosted.org/packages/5f/70/fec788cc6dafd6640faf7b17d8bca534ba0b227e11d0d348ab336b50dd2c/pyobjc_framework_Metal-6.2.1-cp36-abi3-macosx_10_9_x86_64.whl\n",
      "Collecting pyobjc-framework-DeviceCheck==6.2.1; platform_release >= \"19.0\" (from pyobjc->pyautogui)\n",
      "  Downloading https://files.pythonhosted.org/packages/45/0b/e4e83c12f78b267a6ea84b0e88472b08555b622641369f716e810c73e75f/pyobjc_framework_DeviceCheck-6.2.1-py2.py3-none-any.whl\n",
      "Collecting pyobjc-framework-MediaToolbox==6.2.1; platform_release >= \"13.0\" (from pyobjc->pyautogui)\n",
      "  Downloading https://files.pythonhosted.org/packages/5f/5f/33e1a929fbe180cd4f0bf1149933c1f8557284a2bbf7b9c36fcadc745e0a/pyobjc_framework_MediaToolbox-6.2.1-cp36-abi3-macosx_10_9_x86_64.whl\n",
      "Collecting pyobjc-framework-VideoSubscriberAccount==6.2.1; platform_release >= \"18.0\" (from pyobjc->pyautogui)\n",
      "  Downloading https://files.pythonhosted.org/packages/05/c7/3860ee15163292a0542cab30cefda91e369c61d24a769734ff27b6d2af5e/pyobjc_framework_VideoSubscriberAccount-6.2.1-py2.py3-none-any.whl\n",
      "Collecting pyobjc-framework-NetworkExtension==6.2.1; platform_release >= \"15.0\" (from pyobjc->pyautogui)\n",
      "  Downloading https://files.pythonhosted.org/packages/c7/dd/2ea7ff53391a8c150bb48a606e4f31b553291c379fd32662ed6b629fb119/pyobjc_framework_NetworkExtension-6.2.1-cp36-abi3-macosx_10_9_x86_64.whl\n",
      "Collecting pyobjc-framework-Collaboration==6.2.1; platform_release >= \"9.0\" (from pyobjc->pyautogui)\n",
      "  Downloading https://files.pythonhosted.org/packages/cf/e4/2cab9bf126f17bc01984cefa22d8cc01e7f38eb31180fa2bbd649ec87b52/pyobjc_framework_Collaboration-6.2.1-py2.py3-none-any.whl\n",
      "Collecting pyobjc-framework-CoreLocation==6.2.1; platform_release >= \"10.0\" (from pyobjc->pyautogui)\n",
      "  Downloading https://files.pythonhosted.org/packages/10/dc/413216b0c1f3051d0e633e63897c46e8ff3e6978d99157c453f3fa5ca6be/pyobjc_framework_CoreLocation-6.2.1-cp36-abi3-macosx_10_9_x86_64.whl\n",
      "Collecting pyobjc-framework-Contacts==6.2.1; platform_release >= \"15.0\" (from pyobjc->pyautogui)\n",
      "  Downloading https://files.pythonhosted.org/packages/2f/f1/20169682e2f68b4a4eab3b014c0f96a7c36d1ff0945017c06a00519c832b/pyobjc_framework_Contacts-6.2.1-cp36-abi3-macosx_10_9_x86_64.whl\n",
      "Collecting pyobjc-framework-ApplicationServices==6.2.1 (from pyobjc->pyautogui)\n",
      "  Downloading https://files.pythonhosted.org/packages/fb/62/3c752a28eafbf9e9d4f645f9850e80f9b5f7f44c75dab783333be3bdecb1/pyobjc_framework_ApplicationServices-6.2.1-py2.py3-none-any.whl\n"
     ]
    },
    {
     "name": "stdout",
     "output_type": "stream",
     "text": [
      "Collecting pyobjc-framework-PhotosUI==6.2.1; platform_release >= \"15.0\" (from pyobjc->pyautogui)\n",
      "  Downloading https://files.pythonhosted.org/packages/76/3c/b9caf13eaebd3a6f45a8ea215962cda160e32bf04d92a5eb6f84d88f33bd/pyobjc_framework_PhotosUI-6.2.1-cp36-abi3-macosx_10_9_x86_64.whl\n",
      "Collecting pyobjc-framework-CFNetwork==6.2.1 (from pyobjc->pyautogui)\n",
      "  Downloading https://files.pythonhosted.org/packages/97/45/f64edce3d883e6fa1d48fa22ee2904296b82a2c2da1c45a174b3dfa5378f/pyobjc_framework_CFNetwork-6.2.1-cp36-abi3-macosx_10_9_x86_64.whl\n",
      "Collecting pyobjc-framework-SceneKit==6.2.1; platform_release >= \"11.0\" (from pyobjc->pyautogui)\n",
      "  Downloading https://files.pythonhosted.org/packages/3a/6f/dbad6467117f661a8f3cf202383366f8f2e264b613fd595f7f272f18d7f5/pyobjc_framework_SceneKit-6.2.1-cp36-abi3-macosx_10_9_x86_64.whl\n",
      "Collecting pyobjc-framework-ContactsUI==6.2.1; platform_release >= \"15.0\" (from pyobjc->pyautogui)\n",
      "  Downloading https://files.pythonhosted.org/packages/3d/a9/b71ab2d09d0b54cad16a850e5b45f2829d134b414839634e2bdf6ad1d55e/pyobjc_framework_ContactsUI-6.2.1-cp36-abi3-macosx_10_9_x86_64.whl\n",
      "Collecting pyobjc-framework-InputMethodKit==6.2.1; platform_release >= \"9.0\" (from pyobjc->pyautogui)\n",
      "  Downloading https://files.pythonhosted.org/packages/d6/01/842bce41a83a27dbf363e9eae2de05c069d5963d7d94664fbc0633b67139/pyobjc_framework_InputMethodKit-6.2.1-cp36-abi3-macosx_10_9_x86_64.whl\n",
      "Collecting pyobjc-framework-DictionaryServices==6.2.1; platform_release >= \"9.0\" (from pyobjc->pyautogui)\n",
      "  Downloading https://files.pythonhosted.org/packages/d2/a1/70cb1149c091f01a0e76a37291afc3398e4d9a039eb510c35d409b54a82e/pyobjc_framework_DictionaryServices-6.2.1-py2.py3-none-any.whl\n",
      "Collecting pyobjc-framework-CoreServices==6.2.1 (from pyobjc->pyautogui)\n",
      "  Downloading https://files.pythonhosted.org/packages/f6/39/e69d9d993133f3036ee4746823988040b4cb5c43679732083046782bb12d/pyobjc_framework_CoreServices-6.2.1-cp36-abi3-macosx_10_9_x86_64.whl\n",
      "Collecting pyobjc-framework-OSLog==6.2.1; platform_release >= \"19.0\" (from pyobjc->pyautogui)\n",
      "  Downloading https://files.pythonhosted.org/packages/19/94/605b2ec1b8f881ee673f5e94617e81346b18b8f22b86d706077f3f2aa5af/pyobjc_framework_OSLog-6.2.1-cp36-abi3-macosx_10_9_x86_64.whl\n",
      "Collecting pyobjc-framework-IMServicePlugIn==6.2.1; platform_release >= \"11.0\" (from pyobjc->pyautogui)\n",
      "  Downloading https://files.pythonhosted.org/packages/67/c0/2886c447453353ed01f9ab8c645cd5c7bffa43943935b30eb969c1f47ca1/pyobjc_framework_IMServicePlugIn-6.2.1-cp36-abi3-macosx_10_9_x86_64.whl\n",
      "Collecting pyobjc-framework-CoreHaptics==6.2.1; platform_release >= \"19.0\" (from pyobjc->pyautogui)\n",
      "  Downloading https://files.pythonhosted.org/packages/d4/5e/e27ca4402ad47629081919657e29e8754edaf159905611b260b9afc869df/pyobjc_framework_CoreHaptics-6.2.1-py2.py3-none-any.whl\n",
      "Collecting pyobjc-framework-WebKit==6.2.1 (from pyobjc->pyautogui)\n",
      "  Downloading https://files.pythonhosted.org/packages/71/d7/76292360b567232aefe2e6780db507f098e0fde3e924435b258b858ceb62/pyobjc_framework_WebKit-6.2.1-cp36-abi3-macosx_10_9_x86_64.whl\n",
      "Collecting pyobjc-framework-BusinessChat==6.2.1; platform_release >= \"18.0\" (from pyobjc->pyautogui)\n",
      "  Downloading https://files.pythonhosted.org/packages/8c/47/ee9fabda0f6e0e6fe69e09f59c9bde3ae31a228f3c70963f76964a702dd9/pyobjc_framework_BusinessChat-6.2.1-py2.py3-none-any.whl\n",
      "Collecting pyobjc-framework-DiscRecordingUI==6.2.1 (from pyobjc->pyautogui)\n",
      "  Downloading https://files.pythonhosted.org/packages/87/af/3df75893c083d7d1fe3bbcb87c129eab67b57c4adf7742bf71d8b464a5f9/pyobjc_framework_DiscRecordingUI-6.2.1-py2.py3-none-any.whl\n",
      "Collecting pyobjc-framework-NetFS==6.2.1; platform_release >= \"10.0\" (from pyobjc->pyautogui)\n",
      "  Downloading https://files.pythonhosted.org/packages/b9/63/5d71efa25a455273c3cfde94d53bc287201fd351d469882e44b4fbb81ab0/pyobjc_framework_NetFS-6.2.1-py2.py3-none-any.whl\n",
      "Collecting pyobjc-framework-SpriteKit==6.2.1; platform_release >= \"13.0\" (from pyobjc->pyautogui)\n",
      "  Downloading https://files.pythonhosted.org/packages/d8/cd/d7a5f5f8f5a16a1972e0be5919ffe17f309bbdd91523c3f9e5219fe6244f/pyobjc_framework_SpriteKit-6.2.1-cp36-abi3-macosx_10_9_x86_64.whl\n",
      "Collecting pyobjc-framework-VideoToolbox==6.2.1; platform_release >= \"12.0\" (from pyobjc->pyautogui)\n",
      "  Downloading https://files.pythonhosted.org/packages/9c/70/5df038099a8508a4471f32f90339ce356788e670918a509f1c3341f27ea5/pyobjc_framework_VideoToolbox-6.2.1-cp36-abi3-macosx_10_9_x86_64.whl\n",
      "Collecting pyobjc-framework-FinderSync==6.2.1; platform_release >= \"14.0\" (from pyobjc->pyautogui)\n",
      "  Downloading https://files.pythonhosted.org/packages/3e/ad/551407f304473cda8d0d65d12a0a8d2b1251655f62184e41548baf16e521/pyobjc_framework_FinderSync-6.2.1-py2.py3-none-any.whl\n",
      "Collecting pyobjc-framework-Photos==6.2.1; platform_release >= \"15.0\" (from pyobjc->pyautogui)\n",
      "  Downloading https://files.pythonhosted.org/packages/00/9d/b8c55d6b64870c80009653531e164226eceebf6273ea7e5e5b76ab507f9c/pyobjc_framework_Photos-6.2.1-cp36-abi3-macosx_10_9_x86_64.whl\n",
      "Collecting pyobjc-framework-PushKit==6.2.1; platform_release >= \"19.0\" (from pyobjc->pyautogui)\n",
      "  Downloading https://files.pythonhosted.org/packages/18/02/b82719d7132d8197e196da58f0403070c9eaf29494bdb77898b2f70cc029/pyobjc_framework_PushKit-6.2.1-cp36-abi3-macosx_10_9_x86_64.whl\n",
      "Collecting pyobjc-framework-Accounts==6.2.1; platform_release >= \"12.0\" (from pyobjc->pyautogui)\n",
      "  Downloading https://files.pythonhosted.org/packages/b0/46/55c8eb74eedb250e2ead6974f80e50e9846393c5c332844dccf6fc383163/pyobjc_framework_Accounts-6.2.1-py2.py3-none-any.whl\n",
      "Collecting pyobjc-framework-LinkPresentation==6.2.1; platform_release >= \"19.0\" (from pyobjc->pyautogui)\n",
      "  Downloading https://files.pythonhosted.org/packages/73/32/e5e05513f7952d03b5f9553698ff5e5fa60cfab21a97019989eb080e130e/pyobjc_framework_LinkPresentation-6.2.1-py2.py3-none-any.whl\n",
      "Collecting pyobjc-framework-CoreMedia==6.2.1; platform_release >= \"11.0\" (from pyobjc->pyautogui)\n",
      "  Downloading https://files.pythonhosted.org/packages/4b/17/7ddf6a2616d977990eb6f10091e77a449c5cf73846f4ff6f81beff45e9eb/pyobjc_framework_CoreMedia-6.2.1-cp36-abi3-macosx_10_9_x86_64.whl\n",
      "Collecting pyobjc-framework-CoreWLAN==6.2.1; platform_release >= \"10.0\" (from pyobjc->pyautogui)\n",
      "  Downloading https://files.pythonhosted.org/packages/04/53/75ed253608b6413d182f8146973f31f592a91c1580cf15258919eba6af87/pyobjc_framework_CoreWLAN-6.2.1-cp36-abi3-macosx_10_9_x86_64.whl\n",
      "Collecting pyobjc-framework-MetalKit==6.2.1; platform_release >= \"15.0\" (from pyobjc->pyautogui)\n",
      "  Downloading https://files.pythonhosted.org/packages/7a/b0/fcae137f9f7291fba510d4c1f54b086e28a2a95471a028dc72c40b3e5c5b/pyobjc_framework_MetalKit-6.2.1-cp36-abi3-macosx_10_9_x86_64.whl\n",
      "Collecting pyobjc-framework-EventKit==6.2.1; platform_release >= \"12.0\" (from pyobjc->pyautogui)\n",
      "  Downloading https://files.pythonhosted.org/packages/64/b7/33c55e76bf5573a79a8ee216c7395db25c078b163b1e93fc4a007c15aeda/pyobjc_framework_EventKit-6.2.1-py2.py3-none-any.whl\n",
      "Collecting pyobjc-framework-SafariServices==6.2.1; platform_release >= \"15.0\" (from pyobjc->pyautogui)\n",
      "  Downloading https://files.pythonhosted.org/packages/a8/ae/a44b3ed740afd0d933333097ebcb1602a5cf8cc4332a519ba69c76f80495/pyobjc_framework_SafariServices-6.2.1-cp36-abi3-macosx_10_9_x86_64.whl\n",
      "Collecting pyobjc-framework-AVKit==6.2.1; platform_release >= \"13.0\" (from pyobjc->pyautogui)\n",
      "  Downloading https://files.pythonhosted.org/packages/45/e3/bb68753f816141acadf0311d85a9a543ba1c154dd98de6650be4eb7597e8/pyobjc_framework_AVKit-6.2.1-cp36-abi3-macosx_10_9_x86_64.whl\n",
      "Collecting pyobjc-framework-PreferencePanes==6.2.1 (from pyobjc->pyautogui)\n",
      "  Downloading https://files.pythonhosted.org/packages/30/37/a97664d5066ae8dd12d8e13f4f44626ddf8a808dd8b1031733258956d626/pyobjc_framework_PreferencePanes-6.2.1-py2.py3-none-any.whl\n",
      "Collecting pyobjc-framework-Speech==6.2.1; platform_release >= \"19.0\" (from pyobjc->pyautogui)\n",
      "  Downloading https://files.pythonhosted.org/packages/19/3c/d8048fa37c85703caa602c43002c9d83acf44e2d4d3e853fe370381dfaa0/pyobjc_framework_Speech-6.2.1-cp36-abi3-macosx_10_9_x86_64.whl\n",
      "Collecting pyobjc-framework-NotificationCenter==6.2.1; platform_release >= \"14.0\" (from pyobjc->pyautogui)\n",
      "  Downloading https://files.pythonhosted.org/packages/f0/75/4f36a50d04dca3c25cbdcf84c0a49c8639b74564f9d440ee5980459bf345/pyobjc_framework_NotificationCenter-6.2.1-cp36-abi3-macosx_10_9_x86_64.whl\n"
     ]
    },
    {
     "name": "stdout",
     "output_type": "stream",
     "text": [
      "Collecting pyobjc-framework-ColorSync==6.2.1; platform_release >= \"17.0\" (from pyobjc->pyautogui)\n",
      "  Downloading https://files.pythonhosted.org/packages/41/bc/fbda07eb15340da2276b56d4339513950367ca1b2267850ade41941718be/pyobjc_framework_ColorSync-6.2.1-py2.py3-none-any.whl\n",
      "Collecting pyobjc-framework-ModelIO==6.2.1; platform_release >= \"15.0\" (from pyobjc->pyautogui)\n",
      "  Downloading https://files.pythonhosted.org/packages/f7/e3/874890644f290429afc30916d282375f51fd9d2f376a06fd5e29db450383/pyobjc_framework_ModelIO-6.2.1-cp36-abi3-macosx_10_9_x86_64.whl\n",
      "Collecting pyobjc-framework-IOSurface==6.2.1; platform_release >= \"10.0\" (from pyobjc->pyautogui)\n",
      "  Downloading https://files.pythonhosted.org/packages/dc/7b/5128cbc268edd892940d5d29a3caf6fcb15a603ae3ca9b527f55b8e87267/pyobjc_framework_IOSurface-6.2.1-py2.py3-none-any.whl\n",
      "Collecting pyobjc-framework-libdispatch==6.2.1; platform_release >= \"12.0\" (from pyobjc->pyautogui)\n",
      "  Downloading https://files.pythonhosted.org/packages/1a/d8/4c88a075a30d86dd7c2ac65c3090a93bac465d271f0b26b2835bfb63b3d1/pyobjc_framework_libdispatch-6.2.1-cp37-cp37m-macosx_10_9_x86_64.whl\n",
      "Collecting pyobjc-framework-AdSupport==6.2.1; platform_release >= \"18.0\" (from pyobjc->pyautogui)\n",
      "  Downloading https://files.pythonhosted.org/packages/0a/5e/1cdb442d9760e527b917f90bf08fa54dd1cba04455bfba2fa0b04aa3a2fd/pyobjc_framework_AdSupport-6.2.1-py2.py3-none-any.whl\n",
      "Collecting pyobjc-framework-MediaPlayer==6.2.1; platform_release >= \"16.0\" (from pyobjc->pyautogui)\n",
      "  Downloading https://files.pythonhosted.org/packages/f7/1a/2ac3c69ddaa4f3e2e0b7bd3f218e9748baa8981d15b26e7f74274e310f80/pyobjc_framework_MediaPlayer-6.2.1-py2.py3-none-any.whl\n",
      "Collecting pyobjc-framework-InstallerPlugins==6.2.1 (from pyobjc->pyautogui)\n",
      "  Downloading https://files.pythonhosted.org/packages/a8/d2/7d61767e1c34591a69778f664ffb373bf758299cc15753a0d6d2535f9023/pyobjc_framework_InstallerPlugins-6.2.1-py2.py3-none-any.whl\n",
      "Collecting pyobjc-framework-SystemConfiguration==6.2.1 (from pyobjc->pyautogui)\n",
      "  Downloading https://files.pythonhosted.org/packages/1a/50/dfff51da5bc085adf4d015514d58f7c891f6347069da776248cc278bca1d/pyobjc_framework_SystemConfiguration-6.2.1-cp36-abi3-macosx_10_9_x86_64.whl\n",
      "Collecting pyobjc-framework-SystemExtensions==6.2.1; platform_release >= \"19.0\" (from pyobjc->pyautogui)\n",
      "  Downloading https://files.pythonhosted.org/packages/66/ea/93d0bd482ff6b109c95b48a20f3d59fcea64fbd3af5f75713ebc96179c59/pyobjc_framework_SystemExtensions-6.2.1-cp36-abi3-macosx_10_9_x86_64.whl\n",
      "Collecting pyobjc-framework-DiscRecording==6.2.1 (from pyobjc->pyautogui)\n",
      "  Downloading https://files.pythonhosted.org/packages/d7/37/e80564c32efdd17a78c872b3226dcae11fbf485b30603f4abbfb34085689/pyobjc_framework_DiscRecording-6.2.1-cp36-abi3-macosx_10_9_x86_64.whl\n",
      "Collecting pyobjc-framework-CoreBluetooth==6.2.1; platform_release >= \"14.0\" (from pyobjc->pyautogui)\n",
      "  Downloading https://files.pythonhosted.org/packages/b4/74/5878f34079ba6d39596e9887f94f82a221207a213fc64e605221619df168/pyobjc_framework_CoreBluetooth-6.2.1-cp36-abi3-macosx_10_9_x86_64.whl\n",
      "Collecting pyobjc-framework-PencilKit==6.2.1; platform_release >= \"19.0\" (from pyobjc->pyautogui)\n",
      "  Downloading https://files.pythonhosted.org/packages/f9/f4/3d7ff11a75db2f4229d719167ffea8856dcf890a289afee37d4f05251c0b/pyobjc_framework_PencilKit-6.2.1-py2.py3-none-any.whl\n",
      "Collecting pyobjc-framework-iTunesLibrary==6.2.1; platform_release >= \"10.0\" (from pyobjc->pyautogui)\n",
      "  Downloading https://files.pythonhosted.org/packages/6a/52/93c65e586229af4c6e956e55393ce800e548b6fd145842a1b90bd01d266b/pyobjc_framework_iTunesLibrary-6.2.1-py2.py3-none-any.whl\n",
      "Collecting pyobjc-framework-OSAKit==6.2.1 (from pyobjc->pyautogui)\n",
      "  Downloading https://files.pythonhosted.org/packages/2d/f4/6c80cf61f3e209573de75e84566ffa7780807709c13172e98e97e319bfa4/pyobjc_framework_OSAKit-6.2.1-py2.py3-none-any.whl\n",
      "Collecting pyobjc-framework-ImageCaptureCore==6.2.1; platform_release >= \"10.0\" (from pyobjc->pyautogui)\n",
      "  Downloading https://files.pythonhosted.org/packages/2f/22/58784331f181e1f3c5ac3df3ec601f47b463b35c05550bd36471a54463f1/pyobjc_framework_ImageCaptureCore-6.2.1-cp36-abi3-macosx_10_9_x86_64.whl\n",
      "Collecting pyobjc-framework-OpenDirectory==6.2.1; platform_release >= \"10.0\" (from pyobjc->pyautogui)\n",
      "  Downloading https://files.pythonhosted.org/packages/96/9b/83a4dcb8dd4920529cdc96e04bfe685b83e2293872e43ff4c1b606201f61/pyobjc_framework_OpenDirectory-6.2.1-py2.py3-none-any.whl\n",
      "Collecting pyobjc-framework-SecurityFoundation==6.2.1 (from pyobjc->pyautogui)\n",
      "  Downloading https://files.pythonhosted.org/packages/5a/d3/bc89563394d0866b440bda8562f0d4b50f4fa0aa18b481169651138a9159/pyobjc_framework_SecurityFoundation-6.2.1-py2.py3-none-any.whl\n",
      "Collecting pyobjc-framework-AppleScriptKit==6.2.1 (from pyobjc->pyautogui)\n",
      "  Downloading https://files.pythonhosted.org/packages/c3/92/e65debe3e9a97e6023ce91029f9e49e32fbcce2119b476e1ccdfabf83d6e/pyobjc_framework_AppleScriptKit-6.2.1-py2.py3-none-any.whl\n",
      "Collecting pyobjc-framework-Social==6.2.1; platform_release >= \"12.0\" (from pyobjc->pyautogui)\n",
      "  Downloading https://files.pythonhosted.org/packages/8a/b4/69d2b5c6790ace092cc9e25858ebd964f46738c118783b2aef2158fc3a7b/pyobjc_framework_Social-6.2.1-py2.py3-none-any.whl\n",
      "Collecting pyobjc-framework-GameCenter==6.2.1; platform_release >= \"12.0\" (from pyobjc->pyautogui)\n",
      "  Downloading https://files.pythonhosted.org/packages/09/24/9feb1dfc0b4023a574752610abb82a3016fb74d9387a9d19ffc703c7d297/pyobjc_framework_GameCenter-6.2.1-cp36-abi3-macosx_10_9_x86_64.whl\n",
      "Collecting pyobjc-framework-AVFoundation==6.2.1; platform_release >= \"11.0\" (from pyobjc->pyautogui)\n",
      "  Downloading https://files.pythonhosted.org/packages/d4/f9/a5583a03d0c2e9c1f3186efeb2ec3ce1420b95bdb34c11bd6350ca2802fe/pyobjc_framework_AVFoundation-6.2.1-cp36-abi3-macosx_10_9_x86_64.whl\n",
      "Collecting pyobjc-framework-FSEvents==6.2.1; platform_release >= \"9.0\" (from pyobjc->pyautogui)\n",
      "  Downloading https://files.pythonhosted.org/packages/c5/de/98a6a4fdf3c000a59166e520ed2417e6a38190580113c849d620911d6005/pyobjc_framework_FSEvents-6.2.1-cp36-abi3-macosx_10_9_x86_64.whl\n",
      "Collecting pyobjc-framework-SearchKit==6.2.1 (from pyobjc->pyautogui)\n",
      "  Downloading https://files.pythonhosted.org/packages/ca/56/32ad223047935f650204dc4bb6bb6f2ef1b987f80e480e61aa9a36ee8ee5/pyobjc_framework_SearchKit-6.2.1-py2.py3-none-any.whl\n",
      "Collecting pyobjc-framework-ScriptingBridge==6.2.1; platform_release >= \"9.0\" (from pyobjc->pyautogui)\n",
      "  Downloading https://files.pythonhosted.org/packages/3a/1f/914658f8d0ecef125464f5082213ccd6375b1a54b3a7111f5125553f4e74/pyobjc_framework_ScriptingBridge-6.2.1-cp36-abi3-macosx_10_9_x86_64.whl\n",
      "Collecting pyobjc-framework-AddressBook==6.2.1 (from pyobjc->pyautogui)\n",
      "  Downloading https://files.pythonhosted.org/packages/1f/96/939056a44ba68e7467bbed2b22a9f86800b77fcdd50fdcd7df9dba95c045/pyobjc_framework_AddressBook-6.2.1-cp36-abi3-macosx_10_9_x86_64.whl\n",
      "Collecting pyobjc-framework-Intents==6.2.1; platform_release >= \"16.0\" (from pyobjc->pyautogui)\n",
      "  Downloading https://files.pythonhosted.org/packages/9b/d0/45385c4196e379b13a5a01ff8c0b076382bffe12a8acbadcc214ff1cc16a/pyobjc_framework_Intents-6.2.1-cp36-abi3-macosx_10_9_x86_64.whl\n",
      "Collecting pyobjc-framework-CoreData==6.2.1 (from pyobjc->pyautogui)\n",
      "  Downloading https://files.pythonhosted.org/packages/ec/4d/ba2a368a0a720b4b1df693f91d95691c7de4f0d38d29acad8aba62fb1efd/pyobjc_framework_CoreData-6.2.1-cp36-abi3-macosx_10_9_x86_64.whl\n",
      "Collecting pyobjc-framework-LaunchServices==6.2.1 (from pyobjc->pyautogui)\n",
      "  Downloading https://files.pythonhosted.org/packages/78/82/be1eac2c5f88f1a86cc4f84fd0ba4dc9853941597c92b1b0e3d9ae5de70d/pyobjc_framework_LaunchServices-6.2.1-py2.py3-none-any.whl\n",
      "Collecting pyobjc-framework-CoreSpotlight==6.2.1; platform_release >= \"17.0\" (from pyobjc->pyautogui)\n",
      "  Downloading https://files.pythonhosted.org/packages/5d/f3/202924f19b497accb5f52fe972b428d3856949dbb1674f43b6ac0d76d402/pyobjc_framework_CoreSpotlight-6.2.1-cp36-abi3-macosx_10_9_x86_64.whl\n",
      "Collecting pyobjc-framework-LatentSemanticMapping==6.2.1 (from pyobjc->pyautogui)\n",
      "  Downloading https://files.pythonhosted.org/packages/7c/ba/7ba5363fad4cc66080cc92b1ae219b4b2636679c91aa62d34942d6bf4498/pyobjc_framework_LatentSemanticMapping-6.2.1-py2.py3-none-any.whl\n"
     ]
    },
    {
     "name": "stdout",
     "output_type": "stream",
     "text": [
      "Collecting pyobjc-framework-Automator==6.2.1 (from pyobjc->pyautogui)\n",
      "  Downloading https://files.pythonhosted.org/packages/c7/ea/b5aafb5de75bf772d891609c70f2bede73e00c653c6d3b9f176d9370facc/pyobjc_framework_Automator-6.2.1-py2.py3-none-any.whl\n",
      "Collecting pyobjc-framework-CoreML==6.2.1; platform_release >= \"17.0\" (from pyobjc->pyautogui)\n",
      "  Downloading https://files.pythonhosted.org/packages/d1/04/a7649d9a658afa78ed29fe4867b64b98bd1041b294eb6f3beafe114ace60/pyobjc_framework_CoreML-6.2.1-cp36-abi3-macosx_10_9_x86_64.whl\n",
      "Collecting pyobjc-framework-ExternalAccessory==6.2.1; platform_release >= \"17.0\" (from pyobjc->pyautogui)\n",
      "  Downloading https://files.pythonhosted.org/packages/9b/b5/8e277b85e75ddfd95d6ba221873e3a05f6bf148a401c1b3b882b06be41ba/pyobjc_framework_ExternalAccessory-6.2.1-cp36-abi3-macosx_10_9_x86_64.whl\n",
      "Collecting pyobjc-framework-DVDPlayback==6.2.1 (from pyobjc->pyautogui)\n",
      "  Downloading https://files.pythonhosted.org/packages/b0/07/41d19426ae4110735931f3468917dc3abd7081d52db28ff606f353bc28ed/pyobjc_framework_DVDPlayback-6.2.1-py2.py3-none-any.whl\n",
      "Collecting pyobjc-framework-Quartz==6.2.1 (from pyobjc->pyautogui)\n",
      "\u001b[?25l  Downloading https://files.pythonhosted.org/packages/c2/78/4ce670d41dc644a010af63b7f544c5aa623f296740fe3617b77026ad72ca/pyobjc_framework_Quartz-6.2.1-cp37-cp37m-macosx_10_9_x86_64.whl (138kB)\n",
      "\u001b[K     |████████████████████████████████| 143kB 2.3MB/s eta 0:00:01\n",
      "\u001b[?25hCollecting pyobjc-framework-Network==6.2.1; platform_release >= \"18.0\" (from pyobjc->pyautogui)\n",
      "  Downloading https://files.pythonhosted.org/packages/5e/99/62ca7701076df5ec19d2d9910168c378022a987ee6f3ad7a6503c91f3250/pyobjc_framework_Network-6.2.1-cp36-abi3-macosx_10_9_x86_64.whl\n",
      "Collecting pyobjc-framework-Vision==6.2.1; platform_release >= \"17.0\" (from pyobjc->pyautogui)\n",
      "  Downloading https://files.pythonhosted.org/packages/d6/5c/ef671191e815940d57cae6380721735e0ed7d1a4eef9d8f77ab055da60b5/pyobjc_framework_Vision-6.2.1-cp36-abi3-macosx_10_9_x86_64.whl\n",
      "Collecting pyobjc-framework-ScreenSaver==6.2.1 (from pyobjc->pyautogui)\n",
      "  Downloading https://files.pythonhosted.org/packages/2d/00/283d5314cee9fb198a6b1af850420b2614cf99d75ede4974edb349a52546/pyobjc_framework_ScreenSaver-6.2.1-cp36-abi3-macosx_10_9_x86_64.whl\n",
      "Collecting pyobjc-framework-MultipeerConnectivity==6.2.1; platform_release >= \"14.0\" (from pyobjc->pyautogui)\n",
      "  Downloading https://files.pythonhosted.org/packages/5d/11/d6c49706563156fab99dcf13bd6b4eae1843955f4d52cd4ad8de56645b6e/pyobjc_framework_MultipeerConnectivity-6.2.1-cp36-abi3-macosx_10_9_x86_64.whl\n",
      "Collecting pyobjc-framework-CoreAudioKit==6.2.1 (from pyobjc->pyautogui)\n",
      "  Downloading https://files.pythonhosted.org/packages/8a/44/f00357f9a3a854a54a51fa50105f40972cc286b0384a5ac8435f2987721b/pyobjc_framework_CoreAudioKit-6.2.1-cp36-abi3-macosx_10_9_x86_64.whl\n",
      "Collecting pyobjc-framework-Cocoa==6.2.1 (from pyobjc->pyautogui)\n",
      "\u001b[?25l  Downloading https://files.pythonhosted.org/packages/73/44/3093891929cc2fcbbdae067f7ea9773e157dfc55d3b33a4a78535f3eb876/pyobjc_framework_Cocoa-6.2.1-cp37-cp37m-macosx_10_9_x86_64.whl (276kB)\n",
      "\u001b[K     |████████████████████████████████| 286kB 2.0MB/s eta 0:00:01\n",
      "\u001b[?25hCollecting pyobjc-framework-FileProviderUI==6.2.1; platform_release >= \"19.0\" (from pyobjc->pyautogui)\n",
      "  Downloading https://files.pythonhosted.org/packages/e0/33/ad99d3081cfc86e63ed2150701518582792b8086f339bb4d1c7e154210ab/pyobjc_framework_FileProviderUI-6.2.1-py2.py3-none-any.whl\n",
      "Collecting pyobjc-framework-MapKit==6.2.1; platform_release >= \"13.0\" (from pyobjc->pyautogui)\n",
      "  Downloading https://files.pythonhosted.org/packages/fd/af/9788bd85d0c12af646a4126d88a7d16391649eeb96a5c55400793ad7f727/pyobjc_framework_MapKit-6.2.1-cp36-abi3-macosx_10_9_x86_64.whl\n",
      "Collecting pyobjc-framework-CoreMotion==6.2.1; platform_release >= \"19.0\" (from pyobjc->pyautogui)\n",
      "  Downloading https://files.pythonhosted.org/packages/69/0a/95780c7ff56de6e6959a7dc1f30954e7bf81a09eea9c0378ffa806913218/pyobjc_framework_CoreMotion-6.2.1-py2.py3-none-any.whl\n",
      "Collecting pyobjc-framework-ExecutionPolicy==6.2.1; platform_release >= \"19.0\" (from pyobjc->pyautogui)\n",
      "  Downloading https://files.pythonhosted.org/packages/46/47/3e3c7d1f0536f9d0593318cbba5d630042c49b6ea1ba36e8d1fd30dfbc28/pyobjc_framework_ExecutionPolicy-6.2.1-py2.py3-none-any.whl\n",
      "Collecting pyobjc-framework-CloudKit==6.2.1; platform_release >= \"14.0\" (from pyobjc->pyautogui)\n",
      "  Downloading https://files.pythonhosted.org/packages/68/2e/224653e7490361aacf2360f489cadc60a8cb3b7c1f12e1c0ab3452023ff1/pyobjc_framework_CloudKit-6.2.1-py2.py3-none-any.whl\n",
      "Collecting pyobjc-framework-CryptoTokenKit==6.2.1; platform_release >= \"14.0\" (from pyobjc->pyautogui)\n",
      "  Downloading https://files.pythonhosted.org/packages/23/f4/7b4b4b0d16a9f5cb15861e54d1e658a0767074abe500dadbd07fa7d8686e/pyobjc_framework_CryptoTokenKit-6.2.1-cp36-abi3-macosx_10_9_x86_64.whl\n",
      "Collecting pyobjc-framework-LocalAuthentication==6.2.1; platform_release >= \"14.0\" (from pyobjc->pyautogui)\n",
      "  Downloading https://files.pythonhosted.org/packages/34/7c/355c7a4b9331e94f12fb99dee741db7db1dbecbe9d6dfd1e0a7ba56051c9/pyobjc_framework_LocalAuthentication-6.2.1-py2.py3-none-any.whl\n",
      "Collecting pyobjc-framework-SoundAnalysis==6.2.1; platform_release >= \"19.0\" (from pyobjc->pyautogui)\n",
      "  Downloading https://files.pythonhosted.org/packages/b2/bc/6a2c036983c47855f937bc515f2f252f2520620097944d91c3f10f435426/pyobjc_framework_SoundAnalysis-6.2.1-py2.py3-none-any.whl\n",
      "Collecting pyobjc-framework-AuthenticationServices==6.2.1; platform_release >= \"19.0\" (from pyobjc->pyautogui)\n",
      "  Downloading https://files.pythonhosted.org/packages/cb/64/a947a1f3f8cf6e93f1b8f183c73b95a1ca6b29aed41da2900df392fa65f2/pyobjc_framework_AuthenticationServices-6.2.1-cp36-abi3-macosx_10_9_x86_64.whl\n",
      "Collecting pyobjc-framework-InstantMessage==6.2.1; platform_release >= \"9.0\" (from pyobjc->pyautogui)\n",
      "  Downloading https://files.pythonhosted.org/packages/40/f1/0521bc28aea74adb4a347679f4121d61e5014ddf09287eb8eb0afbb90f63/pyobjc_framework_InstantMessage-6.2.1-py2.py3-none-any.whl\n",
      "Collecting pyobjc-framework-CoreAudio==6.2.1 (from pyobjc->pyautogui)\n",
      "  Downloading https://files.pythonhosted.org/packages/db/65/b179231422936911cc70e29994d4983c4de93abd97691eb86398c06a0d4a/pyobjc_framework_CoreAudio-6.2.1-cp37-cp37m-macosx_10_9_x86_64.whl\n",
      "Collecting pyobjc-framework-CoreText==6.2.1 (from pyobjc->pyautogui)\n",
      "  Downloading https://files.pythonhosted.org/packages/fb/11/bcbfe21008c7c5b4c0930400b1adc71cee9f7fd8c2c56bea850f4121b940/pyobjc_framework_CoreText-6.2.1-cp36-abi3-macosx_10_9_x86_64.whl\n",
      "Collecting pyobjc-framework-GameplayKit==6.2.1; platform_release >= \"15.0\" (from pyobjc->pyautogui)\n",
      "  Downloading https://files.pythonhosted.org/packages/71/3c/0a42bfd3338bf6be3d99068ebb069cc752aaf3cc010ef38eda098934c022/pyobjc_framework_GameplayKit-6.2.1-cp36-abi3-macosx_10_9_x86_64.whl\n",
      "Collecting pyobjc-framework-QuickLookThumbnailing==6.2.1; platform_release >= \"19.0\" (from pyobjc->pyautogui)\n",
      "  Downloading https://files.pythonhosted.org/packages/0a/c1/de5706c79214f941677399b5588b6bfd90953968f85c7328558fe32aef9d/pyobjc_framework_QuickLookThumbnailing-6.2.1-py2.py3-none-any.whl\n",
      "Collecting pyobjc-framework-UserNotifications==6.2.1; platform_release >= \"18.0\" (from pyobjc->pyautogui)\n",
      "  Downloading https://files.pythonhosted.org/packages/59/63/38f0cf35bd603cee9ef753e3ae48f4254cd78a3897049601a45ff47826fe/pyobjc_framework_UserNotifications-6.2.1-cp36-abi3-macosx_10_9_x86_64.whl\n",
      "Collecting pyobjc-framework-SyncServices==6.2.1 (from pyobjc->pyautogui)\n",
      "  Downloading https://files.pythonhosted.org/packages/10/12/df15d9298a0718d3e2ae67ce249b2c6e999ba7c54bdd8c98ac9b9139f658/pyobjc_framework_SyncServices-6.2.1-cp36-abi3-macosx_10_9_x86_64.whl\n",
      "Collecting pyobjc-framework-SecurityInterface==6.2.1 (from pyobjc->pyautogui)\n",
      "  Downloading https://files.pythonhosted.org/packages/21/cf/8d683a80935607a52207cf233d1287971bcaa7bd16751fcc5c26360ac51b/pyobjc_framework_SecurityInterface-6.2.1-cp36-abi3-macosx_10_9_x86_64.whl\n",
      "Collecting pyobjc-framework-ServiceManagement==6.2.1; platform_release >= \"10.0\" (from pyobjc->pyautogui)\n",
      "  Downloading https://files.pythonhosted.org/packages/ed/76/eface81bcdecf38d2df62116834808c687c7d67725c40b7485a0cbcf2ee4/pyobjc_framework_ServiceManagement-6.2.1-py2.py3-none-any.whl\n"
     ]
    },
    {
     "name": "stdout",
     "output_type": "stream",
     "text": [
      "Collecting pyobjc-framework-GameController==6.2.1; platform_release >= \"13.0\" (from pyobjc->pyautogui)\n",
      "  Downloading https://files.pythonhosted.org/packages/3c/c3/3bdc841923bef95326805c34b87c42532a14908a50c2e88a3160b1b09dc4/pyobjc_framework_GameController-6.2.1-py2.py3-none-any.whl\n",
      "Collecting pyobjc-framework-FileProvider==6.2.1; platform_release >= \"19.0\" (from pyobjc->pyautogui)\n",
      "  Downloading https://files.pythonhosted.org/packages/48/d3/2f66884a670341eff8da25bedc7af4b147b03afde385550c66d1cb435d03/pyobjc_framework_FileProvider-6.2.1-py2.py3-none-any.whl\n",
      "Collecting pyobjc-framework-AutomaticAssessmentConfiguration==6.2.1; platform_release >= \"19.0\" (from pyobjc->pyautogui)\n",
      "  Downloading https://files.pythonhosted.org/packages/28/81/4ef5dc26b4da81631ee348836d48583963598dc22ef5f9f427a37a8501fe/pyobjc_framework_AutomaticAssessmentConfiguration-6.2.1-py2.py3-none-any.whl\n",
      "Building wheels for collected packages: pymsgbox\n",
      "  Building wheel for pymsgbox (PEP 517) ... \u001b[?25ldone\n",
      "\u001b[?25h  Created wheel for pymsgbox: filename=PyMsgBox-1.0.8-cp37-none-any.whl size=7414 sha256=9198f817435c368b37d9e0475265a6d16052f4186b134ae8a14468853048dfca\n",
      "  Stored in directory: /Users/dimpchax/Library/Caches/pip/wheels/c4/70/12/47ad53247da7e814e180a8361612b17bab8f7b9aa071318695\n",
      "Successfully built pymsgbox\n",
      "Building wheels for collected packages: pyautogui, PyTweening, pyscreeze, pygetwindow, mouseinfo, pyrect, pyperclip\n",
      "  Building wheel for pyautogui (setup.py) ... \u001b[?25ldone\n",
      "\u001b[?25h  Created wheel for pyautogui: filename=PyAutoGUI-0.9.50-cp37-none-any.whl size=35130 sha256=8dc8e72a039e7be7e34a66e3469a57c06a3cb3d04768c85d16a36f57e6f45e59\n",
      "  Stored in directory: /Users/dimpchax/Library/Caches/pip/wheels/e9/4d/ab/55251d5f40fc314e859ceb9a1ef9f87dbbeb232b7c7ecf7639\n",
      "  Building wheel for PyTweening (setup.py) ... \u001b[?25ldone\n",
      "\u001b[?25h  Created wheel for PyTweening: filename=PyTweening-1.0.3-cp37-none-any.whl size=3816 sha256=6576a415f2ed2ea0e12ade9cadaec4a71f2dd80d30f3e4f6aca716077201aaf7\n",
      "  Stored in directory: /Users/dimpchax/Library/Caches/pip/wheels/7b/92/30/06e21159eed2709436bfb6d7c690959e578cf74f029643866e\n",
      "  Building wheel for pyscreeze (setup.py) ... \u001b[?25ldone\n",
      "\u001b[?25h  Created wheel for pyscreeze: filename=PyScreeze-0.1.26-cp37-none-any.whl size=11934 sha256=39d3f71fd00af0e2afe10391eee3476ee70074393c93297ddc21f1aa0c2ed282\n",
      "  Stored in directory: /Users/dimpchax/Library/Caches/pip/wheels/d4/a5/e1/d06a3ae91e6c66ab67d540c215bc2a0da99155c1281e8c921e\n",
      "  Building wheel for pygetwindow (setup.py) ... \u001b[?25ldone\n",
      "\u001b[?25h  Created wheel for pygetwindow: filename=PyGetWindow-0.0.8-cp37-none-any.whl size=11010 sha256=4c3729ed22d6de4f85cd424ca54180059d28bc2107f3425f13ae9c0255a6da72\n",
      "  Stored in directory: /Users/dimpchax/Library/Caches/pip/wheels/a7/20/2c/7ba9c02521960b138ff4a635fced58cb7a3bc3cc99d52f56b5\n",
      "  Building wheel for mouseinfo (setup.py) ... \u001b[?25ldone\n",
      "\u001b[?25h  Created wheel for mouseinfo: filename=MouseInfo-0.1.3-cp37-none-any.whl size=10906 sha256=b0974ff09a0ff44015b535d06c1e0694d2d8efe180ca13d68f1e3efcc11caa26\n",
      "  Stored in directory: /Users/dimpchax/Library/Caches/pip/wheels/eb/81/32/4d7b345486dbc3f3ee45316f8f4cbdebafc1b5d1da3353b529\n",
      "  Building wheel for pyrect (setup.py) ... \u001b[?25ldone\n",
      "\u001b[?25h  Created wheel for pyrect: filename=PyRect-0.1.4-py2.py3-none-any.whl size=9548 sha256=0167394ef3d117b57c5dfd3eff8a898d2d31c56ed7dc6773311b9c6b255d2fe5\n",
      "  Stored in directory: /Users/dimpchax/Library/Caches/pip/wheels/3e/61/83/8fd1478e984f7378e57972f5fd9bb0dbffc349fefc9efa5bf9\n",
      "  Building wheel for pyperclip (setup.py) ... \u001b[?25ldone\n",
      "\u001b[?25h  Created wheel for pyperclip: filename=pyperclip-1.8.0-cp37-none-any.whl size=8692 sha256=8cb85d90dd8ac3d2ae96af5736479f4f62bede888d39491c3adc2616e55174ca\n",
      "  Stored in directory: /Users/dimpchax/Library/Caches/pip/wheels/b2/ac/0a/b784f0afe26eaf52e88a7e15c7369090deea0354fa1c6fc689\n",
      "Successfully built pyautogui PyTweening pyscreeze pygetwindow mouseinfo pyrect pyperclip\n",
      "Installing collected packages: pymsgbox, PyTweening, pyscreeze, pyrect, pygetwindow, pyperclip, rubicon-objc, mouseinfo, pyobjc-core, pyobjc-framework-Cocoa, pyobjc-framework-ExceptionHandling, pyobjc-framework-DiskArbitration, pyobjc-framework-CoreMediaIO, pyobjc-framework-StoreKit, pyobjc-framework-Quartz, pyobjc-framework-GameKit, pyobjc-framework-Security, pyobjc-framework-NaturalLanguage, pyobjc-framework-MediaAccessibility, pyobjc-framework-MediaLibrary, pyobjc-framework-AppleScriptObjC, pyobjc-framework-CalendarStore, pyobjc-framework-Metal, pyobjc-framework-DeviceCheck, pyobjc-framework-MediaToolbox, pyobjc-framework-VideoSubscriberAccount, pyobjc-framework-NetworkExtension, pyobjc-framework-Collaboration, pyobjc-framework-CoreLocation, pyobjc-framework-Contacts, pyobjc-framework-ApplicationServices, pyobjc-framework-PhotosUI, pyobjc-framework-CFNetwork, pyobjc-framework-SceneKit, pyobjc-framework-ContactsUI, pyobjc-framework-InputMethodKit, pyobjc-framework-FSEvents, pyobjc-framework-CoreServices, pyobjc-framework-DictionaryServices, pyobjc-framework-CoreMedia, pyobjc-framework-OSLog, pyobjc-framework-IMServicePlugIn, pyobjc-framework-CoreHaptics, pyobjc-framework-WebKit, pyobjc-framework-BusinessChat, pyobjc-framework-DiscRecording, pyobjc-framework-DiscRecordingUI, pyobjc-framework-NetFS, pyobjc-framework-SpriteKit, pyobjc-framework-VideoToolbox, pyobjc-framework-FinderSync, pyobjc-framework-Photos, pyobjc-framework-PushKit, pyobjc-framework-Accounts, pyobjc-framework-LinkPresentation, pyobjc-framework-CoreWLAN, pyobjc-framework-MetalKit, pyobjc-framework-EventKit, pyobjc-framework-SafariServices, pyobjc-framework-AVKit, pyobjc-framework-PreferencePanes, pyobjc-framework-Speech, pyobjc-framework-NotificationCenter, pyobjc-framework-ColorSync, pyobjc-framework-ModelIO, pyobjc-framework-IOSurface, pyobjc-framework-libdispatch, pyobjc-framework-AdSupport, pyobjc-framework-AVFoundation, pyobjc-framework-MediaPlayer, pyobjc-framework-InstallerPlugins, pyobjc-framework-SystemConfiguration, pyobjc-framework-SystemExtensions, pyobjc-framework-CoreBluetooth, pyobjc-framework-PencilKit, pyobjc-framework-iTunesLibrary, pyobjc-framework-OSAKit, pyobjc-framework-ImageCaptureCore, pyobjc-framework-OpenDirectory, pyobjc-framework-SecurityFoundation, pyobjc-framework-AppleScriptKit, pyobjc-framework-Social, pyobjc-framework-GameCenter, pyobjc-framework-SearchKit, pyobjc-framework-ScriptingBridge, pyobjc-framework-AddressBook, pyobjc-framework-Intents, pyobjc-framework-CoreData, pyobjc-framework-LaunchServices, pyobjc-framework-CoreSpotlight, pyobjc-framework-LatentSemanticMapping, pyobjc-framework-Automator, pyobjc-framework-CoreML, pyobjc-framework-ExternalAccessory, pyobjc-framework-DVDPlayback, pyobjc-framework-Network, pyobjc-framework-Vision, pyobjc-framework-ScreenSaver, pyobjc-framework-MultipeerConnectivity, pyobjc-framework-CoreAudio, pyobjc-framework-CoreAudioKit, pyobjc-framework-FileProvider, pyobjc-framework-FileProviderUI, pyobjc-framework-MapKit, pyobjc-framework-CoreMotion, pyobjc-framework-ExecutionPolicy, pyobjc-framework-CloudKit, pyobjc-framework-CryptoTokenKit, pyobjc-framework-LocalAuthentication, pyobjc-framework-SoundAnalysis, pyobjc-framework-AuthenticationServices, pyobjc-framework-InstantMessage, pyobjc-framework-CoreText, pyobjc-framework-GameplayKit, pyobjc-framework-QuickLookThumbnailing, pyobjc-framework-UserNotifications, pyobjc-framework-SyncServices, pyobjc-framework-SecurityInterface, pyobjc-framework-ServiceManagement, pyobjc-framework-GameController, pyobjc-framework-AutomaticAssessmentConfiguration, pyobjc, pyautogui\n",
      "Successfully installed PyTweening-1.0.3 mouseinfo-0.1.3 pyautogui-0.9.50 pygetwindow-0.0.8 pymsgbox-1.0.8 pyobjc-6.2.1 pyobjc-core-6.2.1 pyobjc-framework-AVFoundation-6.2.1 pyobjc-framework-AVKit-6.2.1 pyobjc-framework-Accounts-6.2.1 pyobjc-framework-AdSupport-6.2.1 pyobjc-framework-AddressBook-6.2.1 pyobjc-framework-AppleScriptKit-6.2.1 pyobjc-framework-AppleScriptObjC-6.2.1 pyobjc-framework-ApplicationServices-6.2.1 pyobjc-framework-AuthenticationServices-6.2.1 pyobjc-framework-AutomaticAssessmentConfiguration-6.2.1 pyobjc-framework-Automator-6.2.1 pyobjc-framework-BusinessChat-6.2.1 pyobjc-framework-CFNetwork-6.2.1 pyobjc-framework-CalendarStore-6.2.1 pyobjc-framework-CloudKit-6.2.1 pyobjc-framework-Cocoa-6.2.1 pyobjc-framework-Collaboration-6.2.1 pyobjc-framework-ColorSync-6.2.1 pyobjc-framework-Contacts-6.2.1 pyobjc-framework-ContactsUI-6.2.1 pyobjc-framework-CoreAudio-6.2.1 pyobjc-framework-CoreAudioKit-6.2.1 pyobjc-framework-CoreBluetooth-6.2.1 pyobjc-framework-CoreData-6.2.1 pyobjc-framework-CoreHaptics-6.2.1 pyobjc-framework-CoreLocation-6.2.1 pyobjc-framework-CoreML-6.2.1 pyobjc-framework-CoreMedia-6.2.1 pyobjc-framework-CoreMediaIO-6.2.1 pyobjc-framework-CoreMotion-6.2.1 pyobjc-framework-CoreServices-6.2.1 pyobjc-framework-CoreSpotlight-6.2.1 pyobjc-framework-CoreText-6.2.1 pyobjc-framework-CoreWLAN-6.2.1 pyobjc-framework-CryptoTokenKit-6.2.1 pyobjc-framework-DVDPlayback-6.2.1 pyobjc-framework-DeviceCheck-6.2.1 pyobjc-framework-DictionaryServices-6.2.1 pyobjc-framework-DiscRecording-6.2.1 pyobjc-framework-DiscRecordingUI-6.2.1 pyobjc-framework-DiskArbitration-6.2.1 pyobjc-framework-EventKit-6.2.1 pyobjc-framework-ExceptionHandling-6.2.1 pyobjc-framework-ExecutionPolicy-6.2.1 pyobjc-framework-ExternalAccessory-6.2.1 pyobjc-framework-FSEvents-6.2.1 pyobjc-framework-FileProvider-6.2.1 pyobjc-framework-FileProviderUI-6.2.1 pyobjc-framework-FinderSync-6.2.1 pyobjc-framework-GameCenter-6.2.1 pyobjc-framework-GameController-6.2.1 pyobjc-framework-GameKit-6.2.1 pyobjc-framework-GameplayKit-6.2.1 pyobjc-framework-IMServicePlugIn-6.2.1 pyobjc-framework-IOSurface-6.2.1 pyobjc-framework-ImageCaptureCore-6.2.1 pyobjc-framework-InputMethodKit-6.2.1 pyobjc-framework-InstallerPlugins-6.2.1 pyobjc-framework-InstantMessage-6.2.1 pyobjc-framework-Intents-6.2.1 pyobjc-framework-LatentSemanticMapping-6.2.1 pyobjc-framework-LaunchServices-6.2.1 pyobjc-framework-LinkPresentation-6.2.1 pyobjc-framework-LocalAuthentication-6.2.1 pyobjc-framework-MapKit-6.2.1 pyobjc-framework-MediaAccessibility-6.2.1 pyobjc-framework-MediaLibrary-6.2.1 pyobjc-framework-MediaPlayer-6.2.1 pyobjc-framework-MediaToolbox-6.2.1 pyobjc-framework-Metal-6.2.1 pyobjc-framework-MetalKit-6.2.1 pyobjc-framework-ModelIO-6.2.1 pyobjc-framework-MultipeerConnectivity-6.2.1 pyobjc-framework-NaturalLanguage-6.2.1 pyobjc-framework-NetFS-6.2.1 pyobjc-framework-Network-6.2.1 pyobjc-framework-NetworkExtension-6.2.1 pyobjc-framework-NotificationCenter-6.2.1 pyobjc-framework-OSAKit-6.2.1 pyobjc-framework-OSLog-6.2.1 pyobjc-framework-OpenDirectory-6.2.1 pyobjc-framework-PencilKit-6.2.1 pyobjc-framework-Photos-6.2.1 pyobjc-framework-PhotosUI-6.2.1 pyobjc-framework-PreferencePanes-6.2.1 pyobjc-framework-PushKit-6.2.1 pyobjc-framework-Quartz-6.2.1 pyobjc-framework-QuickLookThumbnailing-6.2.1 pyobjc-framework-SafariServices-6.2.1 pyobjc-framework-SceneKit-6.2.1 pyobjc-framework-ScreenSaver-6.2.1 pyobjc-framework-ScriptingBridge-6.2.1 pyobjc-framework-SearchKit-6.2.1 pyobjc-framework-Security-6.2.1 pyobjc-framework-SecurityFoundation-6.2.1 pyobjc-framework-SecurityInterface-6.2.1 pyobjc-framework-ServiceManagement-6.2.1 pyobjc-framework-Social-6.2.1 pyobjc-framework-SoundAnalysis-6.2.1 pyobjc-framework-Speech-6.2.1 pyobjc-framework-SpriteKit-6.2.1 pyobjc-framework-StoreKit-6.2.1 pyobjc-framework-SyncServices-6.2.1 pyobjc-framework-SystemConfiguration-6.2.1 pyobjc-framework-SystemExtensions-6.2.1 pyobjc-framework-UserNotifications-6.2.1 pyobjc-framework-VideoSubscriberAccount-6.2.1 pyobjc-framework-VideoToolbox-6.2.1 pyobjc-framework-Vision-6.2.1 pyobjc-framework-WebKit-6.2.1 pyobjc-framework-iTunesLibrary-6.2.1 pyobjc-framework-libdispatch-6.2.1 pyperclip-1.8.0 pyrect-0.1.4 pyscreeze-0.1.26 rubicon-objc-0.3.1\n"
     ]
    },
    {
     "name": "stdout",
     "output_type": "stream",
     "text": [
      "Note: you may need to restart the kernel to use updated packages.\n"
     ]
    }
   ],
   "source": [
    "pip install pyautogui"
   ]
  },
  {
   "cell_type": "code",
   "execution_count": 6,
   "metadata": {
    "collapsed": true
   },
   "outputs": [],
   "source": [
    "import pyautogui"
   ]
  },
  {
   "cell_type": "code",
   "execution_count": 7,
   "metadata": {},
   "outputs": [
    {
     "data": {
      "text/plain": [
       "(1366, 768)"
      ]
     },
     "execution_count": 7,
     "metadata": {},
     "output_type": "execute_result"
    }
   ],
   "source": [
    "pyautogui.size()"
   ]
  },
  {
   "cell_type": "code",
   "execution_count": null,
   "metadata": {
    "collapsed": true
   },
   "outputs": [],
   "source": [
    "(0,0), (1365,0), (0,767), (1365, 767)"
   ]
  },
  {
   "cell_type": "code",
   "execution_count": 13,
   "metadata": {},
   "outputs": [
    {
     "data": {
      "text/plain": [
       "(560, 81)"
      ]
     },
     "execution_count": 13,
     "metadata": {},
     "output_type": "execute_result"
    }
   ],
   "source": [
    "pyautogui.position()"
   ]
  },
  {
   "cell_type": "code",
   "execution_count": 14,
   "metadata": {
    "collapsed": true
   },
   "outputs": [],
   "source": [
    "pyautogui.click(560, 81)"
   ]
  },
  {
   "cell_type": "code",
   "execution_count": 17,
   "metadata": {
    "collapsed": true
   },
   "outputs": [],
   "source": [
    "pyautogui.moveTo(560, 81, duration=3)"
   ]
  },
  {
   "cell_type": "code",
   "execution_count": 19,
   "metadata": {
    "collapsed": true
   },
   "outputs": [],
   "source": [
    "pyautogui.moveRel(300,0, duration=2)"
   ]
  },
  {
   "cell_type": "code",
   "execution_count": null,
   "metadata": {
    "collapsed": true
   },
   "outputs": [],
   "source": [
    "pyautogui."
   ]
  },
  {
   "cell_type": "code",
   "execution_count": null,
   "metadata": {
    "collapsed": true
   },
   "outputs": [],
   "source": []
  },
  {
   "cell_type": "code",
   "execution_count": null,
   "metadata": {
    "collapsed": true
   },
   "outputs": [],
   "source": []
  },
  {
   "cell_type": "code",
   "execution_count": null,
   "metadata": {
    "collapsed": true
   },
   "outputs": [],
   "source": []
  },
  {
   "cell_type": "code",
   "execution_count": null,
   "metadata": {
    "collapsed": true
   },
   "outputs": [],
   "source": []
  },
  {
   "cell_type": "code",
   "execution_count": null,
   "metadata": {
    "collapsed": true
   },
   "outputs": [],
   "source": []
  },
  {
   "cell_type": "code",
   "execution_count": null,
   "metadata": {
    "collapsed": true
   },
   "outputs": [],
   "source": []
  },
  {
   "cell_type": "code",
   "execution_count": null,
   "metadata": {
    "collapsed": true
   },
   "outputs": [],
   "source": []
  },
  {
   "cell_type": "markdown",
   "metadata": {},
   "source": [
    "# Play with Keyboard from Python"
   ]
  },
  {
   "cell_type": "code",
   "execution_count": 32,
   "metadata": {
    "collapsed": true
   },
   "outputs": [],
   "source": [
    "import pyautogui"
   ]
  },
  {
   "cell_type": "code",
   "execution_count": 2,
   "metadata": {},
   "outputs": [
    {
     "ename": "NameError",
     "evalue": "name 'pyautogui' is not defined",
     "output_type": "error",
     "traceback": [
      "\u001b[0;31m---------------------------------------------------------------------------\u001b[0m",
      "\u001b[0;31mNameError\u001b[0m                                 Traceback (most recent call last)",
      "\u001b[0;32m<ipython-input-2-87cea01e6708>\u001b[0m in \u001b[0;36m<module>\u001b[0;34m\u001b[0m\n\u001b[0;32m----> 1\u001b[0;31m \u001b[0mpyautogui\u001b[0m\u001b[0;34m.\u001b[0m\u001b[0mclick\u001b[0m\u001b[0;34m(\u001b[0m\u001b[0;36m200\u001b[0m\u001b[0;34m,\u001b[0m\u001b[0;36m200\u001b[0m\u001b[0;34m)\u001b[0m\u001b[0;34m;\u001b[0m\u001b[0mpyautogui\u001b[0m\u001b[0;34m.\u001b[0m\u001b[0mtypewrite\u001b[0m\u001b[0;34m(\u001b[0m\u001b[0;34m'Hello chacs'\u001b[0m\u001b[0;34m,\u001b[0m \u001b[0minterval\u001b[0m\u001b[0;34m=\u001b[0m\u001b[0;36m0.5\u001b[0m\u001b[0;34m)\u001b[0m\u001b[0;34m\u001b[0m\u001b[0;34m\u001b[0m\u001b[0m\n\u001b[0m",
      "\u001b[0;31mNameError\u001b[0m: name 'pyautogui' is not defined"
     ]
    }
   ],
   "source": [
    "pyautogui.click(200,200);pyautogui.typewrite('Hello chacs', interval=0.5)"
   ]
  },
  {
   "cell_type": "code",
   "execution_count": 35,
   "metadata": {
    "collapsed": true
   },
   "outputs": [],
   "source": [
    "pyautogui.click(200,200);pyautogui.typewrite(['a','b','z','left','left','A','A','A'], interval=1)"
   ]
  },
  {
   "cell_type": "code",
   "execution_count": 36,
   "metadata": {},
   "outputs": [
    {
     "data": {
      "text/plain": [
       "['\\t',\n",
       " '\\n',\n",
       " '\\r',\n",
       " ' ',\n",
       " '!',\n",
       " '\"',\n",
       " '#',\n",
       " '$',\n",
       " '%',\n",
       " '&',\n",
       " \"'\",\n",
       " '(',\n",
       " ')',\n",
       " '*',\n",
       " '+',\n",
       " ',',\n",
       " '-',\n",
       " '.',\n",
       " '/',\n",
       " '0',\n",
       " '1',\n",
       " '2',\n",
       " '3',\n",
       " '4',\n",
       " '5',\n",
       " '6',\n",
       " '7',\n",
       " '8',\n",
       " '9',\n",
       " ':',\n",
       " ';',\n",
       " '<',\n",
       " '=',\n",
       " '>',\n",
       " '?',\n",
       " '@',\n",
       " '[',\n",
       " '\\\\',\n",
       " ']',\n",
       " '^',\n",
       " '_',\n",
       " '`',\n",
       " 'a',\n",
       " 'b',\n",
       " 'c',\n",
       " 'd',\n",
       " 'e',\n",
       " 'f',\n",
       " 'g',\n",
       " 'h',\n",
       " 'i',\n",
       " 'j',\n",
       " 'k',\n",
       " 'l',\n",
       " 'm',\n",
       " 'n',\n",
       " 'o',\n",
       " 'p',\n",
       " 'q',\n",
       " 'r',\n",
       " 's',\n",
       " 't',\n",
       " 'u',\n",
       " 'v',\n",
       " 'w',\n",
       " 'x',\n",
       " 'y',\n",
       " 'z',\n",
       " '{',\n",
       " '|',\n",
       " '}',\n",
       " '~',\n",
       " 'accept',\n",
       " 'add',\n",
       " 'alt',\n",
       " 'altleft',\n",
       " 'altright',\n",
       " 'apps',\n",
       " 'backspace',\n",
       " 'browserback',\n",
       " 'browserfavorites',\n",
       " 'browserforward',\n",
       " 'browserhome',\n",
       " 'browserrefresh',\n",
       " 'browsersearch',\n",
       " 'browserstop',\n",
       " 'capslock',\n",
       " 'clear',\n",
       " 'convert',\n",
       " 'ctrl',\n",
       " 'ctrlleft',\n",
       " 'ctrlright',\n",
       " 'decimal',\n",
       " 'del',\n",
       " 'delete',\n",
       " 'divide',\n",
       " 'down',\n",
       " 'end',\n",
       " 'enter',\n",
       " 'esc',\n",
       " 'escape',\n",
       " 'execute',\n",
       " 'f1',\n",
       " 'f10',\n",
       " 'f11',\n",
       " 'f12',\n",
       " 'f13',\n",
       " 'f14',\n",
       " 'f15',\n",
       " 'f16',\n",
       " 'f17',\n",
       " 'f18',\n",
       " 'f19',\n",
       " 'f2',\n",
       " 'f20',\n",
       " 'f21',\n",
       " 'f22',\n",
       " 'f23',\n",
       " 'f24',\n",
       " 'f3',\n",
       " 'f4',\n",
       " 'f5',\n",
       " 'f6',\n",
       " 'f7',\n",
       " 'f8',\n",
       " 'f9',\n",
       " 'final',\n",
       " 'fn',\n",
       " 'hanguel',\n",
       " 'hangul',\n",
       " 'hanja',\n",
       " 'help',\n",
       " 'home',\n",
       " 'insert',\n",
       " 'junja',\n",
       " 'kana',\n",
       " 'kanji',\n",
       " 'launchapp1',\n",
       " 'launchapp2',\n",
       " 'launchmail',\n",
       " 'launchmediaselect',\n",
       " 'left',\n",
       " 'modechange',\n",
       " 'multiply',\n",
       " 'nexttrack',\n",
       " 'nonconvert',\n",
       " 'num0',\n",
       " 'num1',\n",
       " 'num2',\n",
       " 'num3',\n",
       " 'num4',\n",
       " 'num5',\n",
       " 'num6',\n",
       " 'num7',\n",
       " 'num8',\n",
       " 'num9',\n",
       " 'numlock',\n",
       " 'pagedown',\n",
       " 'pageup',\n",
       " 'pause',\n",
       " 'pgdn',\n",
       " 'pgup',\n",
       " 'playpause',\n",
       " 'prevtrack',\n",
       " 'print',\n",
       " 'printscreen',\n",
       " 'prntscrn',\n",
       " 'prtsc',\n",
       " 'prtscr',\n",
       " 'return',\n",
       " 'right',\n",
       " 'scrolllock',\n",
       " 'select',\n",
       " 'separator',\n",
       " 'shift',\n",
       " 'shiftleft',\n",
       " 'shiftright',\n",
       " 'sleep',\n",
       " 'space',\n",
       " 'stop',\n",
       " 'subtract',\n",
       " 'tab',\n",
       " 'up',\n",
       " 'volumedown',\n",
       " 'volumemute',\n",
       " 'volumeup',\n",
       " 'win',\n",
       " 'winleft',\n",
       " 'winright',\n",
       " 'yen',\n",
       " 'command',\n",
       " 'option',\n",
       " 'optionleft',\n",
       " 'optionright']"
      ]
     },
     "execution_count": 36,
     "metadata": {},
     "output_type": "execute_result"
    }
   ],
   "source": [
    "pyautogui.KEYBOARD_KEYS"
   ]
  },
  {
   "cell_type": "code",
   "execution_count": 37,
   "metadata": {
    "collapsed": true
   },
   "outputs": [],
   "source": [
    "pyautogui.press('')"
   ]
  },
  {
   "cell_type": "code",
   "execution_count": null,
   "metadata": {
    "collapsed": true
   },
   "outputs": [],
   "source": []
  },
  {
   "cell_type": "code",
   "execution_count": null,
   "metadata": {
    "collapsed": true
   },
   "outputs": [],
   "source": []
  },
  {
   "cell_type": "code",
   "execution_count": null,
   "metadata": {
    "collapsed": true
   },
   "outputs": [],
   "source": []
  },
  {
   "cell_type": "code",
   "execution_count": null,
   "metadata": {
    "collapsed": true
   },
   "outputs": [],
   "source": []
  },
  {
   "cell_type": "code",
   "execution_count": null,
   "metadata": {
    "collapsed": true
   },
   "outputs": [],
   "source": []
  },
  {
   "cell_type": "code",
   "execution_count": null,
   "metadata": {
    "collapsed": true
   },
   "outputs": [],
   "source": []
  },
  {
   "cell_type": "code",
   "execution_count": null,
   "metadata": {
    "collapsed": true
   },
   "outputs": [],
   "source": []
  },
  {
   "cell_type": "code",
   "execution_count": null,
   "metadata": {
    "collapsed": true
   },
   "outputs": [],
   "source": []
  },
  {
   "cell_type": "code",
   "execution_count": null,
   "metadata": {
    "collapsed": true
   },
   "outputs": [],
   "source": []
  },
  {
   "cell_type": "code",
   "execution_count": null,
   "metadata": {
    "collapsed": true
   },
   "outputs": [],
   "source": []
  },
  {
   "cell_type": "code",
   "execution_count": null,
   "metadata": {
    "collapsed": true
   },
   "outputs": [],
   "source": []
  },
  {
   "cell_type": "code",
   "execution_count": null,
   "metadata": {
    "collapsed": true
   },
   "outputs": [],
   "source": []
  },
  {
   "cell_type": "code",
   "execution_count": null,
   "metadata": {
    "collapsed": true
   },
   "outputs": [],
   "source": []
  },
  {
   "cell_type": "code",
   "execution_count": null,
   "metadata": {
    "collapsed": true
   },
   "outputs": [],
   "source": []
  },
  {
   "cell_type": "code",
   "execution_count": null,
   "metadata": {
    "collapsed": true
   },
   "outputs": [],
   "source": []
  },
  {
   "cell_type": "code",
   "execution_count": null,
   "metadata": {
    "collapsed": true
   },
   "outputs": [],
   "source": []
  },
  {
   "cell_type": "code",
   "execution_count": null,
   "metadata": {
    "collapsed": true
   },
   "outputs": [],
   "source": []
  },
  {
   "cell_type": "code",
   "execution_count": null,
   "metadata": {
    "collapsed": true
   },
   "outputs": [],
   "source": []
  },
  {
   "cell_type": "code",
   "execution_count": null,
   "metadata": {
    "collapsed": true
   },
   "outputs": [],
   "source": []
  },
  {
   "cell_type": "code",
   "execution_count": null,
   "metadata": {
    "collapsed": true
   },
   "outputs": [],
   "source": []
  },
  {
   "cell_type": "code",
   "execution_count": null,
   "metadata": {
    "collapsed": true
   },
   "outputs": [],
   "source": []
  },
  {
   "cell_type": "code",
   "execution_count": null,
   "metadata": {
    "collapsed": true
   },
   "outputs": [],
   "source": []
  },
  {
   "cell_type": "code",
   "execution_count": null,
   "metadata": {
    "collapsed": true
   },
   "outputs": [],
   "source": []
  },
  {
   "cell_type": "code",
   "execution_count": null,
   "metadata": {
    "collapsed": true
   },
   "outputs": [],
   "source": []
  },
  {
   "cell_type": "code",
   "execution_count": null,
   "metadata": {
    "collapsed": true
   },
   "outputs": [],
   "source": []
  },
  {
   "cell_type": "code",
   "execution_count": null,
   "metadata": {
    "collapsed": true
   },
   "outputs": [],
   "source": []
  },
  {
   "cell_type": "code",
   "execution_count": null,
   "metadata": {
    "collapsed": true
   },
   "outputs": [],
   "source": []
  },
  {
   "cell_type": "code",
   "execution_count": null,
   "metadata": {
    "collapsed": true
   },
   "outputs": [],
   "source": []
  },
  {
   "cell_type": "code",
   "execution_count": null,
   "metadata": {
    "collapsed": true
   },
   "outputs": [],
   "source": []
  },
  {
   "cell_type": "code",
   "execution_count": null,
   "metadata": {
    "collapsed": true
   },
   "outputs": [],
   "source": []
  },
  {
   "cell_type": "code",
   "execution_count": null,
   "metadata": {
    "collapsed": true
   },
   "outputs": [],
   "source": []
  },
  {
   "cell_type": "code",
   "execution_count": null,
   "metadata": {
    "collapsed": true
   },
   "outputs": [],
   "source": []
  },
  {
   "cell_type": "code",
   "execution_count": null,
   "metadata": {
    "collapsed": true
   },
   "outputs": [],
   "source": []
  },
  {
   "cell_type": "code",
   "execution_count": null,
   "metadata": {
    "collapsed": true
   },
   "outputs": [],
   "source": []
  },
  {
   "cell_type": "code",
   "execution_count": null,
   "metadata": {
    "collapsed": true
   },
   "outputs": [],
   "source": []
  },
  {
   "cell_type": "code",
   "execution_count": null,
   "metadata": {
    "collapsed": true
   },
   "outputs": [],
   "source": []
  },
  {
   "cell_type": "code",
   "execution_count": 20,
   "metadata": {
    "collapsed": true
   },
   "outputs": [],
   "source": [
    "import pyautogui"
   ]
  },
  {
   "cell_type": "code",
   "execution_count": 22,
   "metadata": {
    "collapsed": true
   },
   "outputs": [],
   "source": [
    "pyautogui.click(200,200);pyautogui.typewrite('Hello Chacs', interval=0.5)"
   ]
  },
  {
   "cell_type": "code",
   "execution_count": 26,
   "metadata": {
    "collapsed": true
   },
   "outputs": [],
   "source": [
    "pyautogui.click(200,200);pyautogui.typewrite(['A' ,'M', 'left' , 'C'], interval=0.5)"
   ]
  },
  {
   "cell_type": "code",
   "execution_count": 27,
   "metadata": {},
   "outputs": [
    {
     "data": {
      "text/plain": [
       "['\\t',\n",
       " '\\n',\n",
       " '\\r',\n",
       " ' ',\n",
       " '!',\n",
       " '\"',\n",
       " '#',\n",
       " '$',\n",
       " '%',\n",
       " '&',\n",
       " \"'\",\n",
       " '(',\n",
       " ')',\n",
       " '*',\n",
       " '+',\n",
       " ',',\n",
       " '-',\n",
       " '.',\n",
       " '/',\n",
       " '0',\n",
       " '1',\n",
       " '2',\n",
       " '3',\n",
       " '4',\n",
       " '5',\n",
       " '6',\n",
       " '7',\n",
       " '8',\n",
       " '9',\n",
       " ':',\n",
       " ';',\n",
       " '<',\n",
       " '=',\n",
       " '>',\n",
       " '?',\n",
       " '@',\n",
       " '[',\n",
       " '\\\\',\n",
       " ']',\n",
       " '^',\n",
       " '_',\n",
       " '`',\n",
       " 'a',\n",
       " 'b',\n",
       " 'c',\n",
       " 'd',\n",
       " 'e',\n",
       " 'f',\n",
       " 'g',\n",
       " 'h',\n",
       " 'i',\n",
       " 'j',\n",
       " 'k',\n",
       " 'l',\n",
       " 'm',\n",
       " 'n',\n",
       " 'o',\n",
       " 'p',\n",
       " 'q',\n",
       " 'r',\n",
       " 's',\n",
       " 't',\n",
       " 'u',\n",
       " 'v',\n",
       " 'w',\n",
       " 'x',\n",
       " 'y',\n",
       " 'z',\n",
       " '{',\n",
       " '|',\n",
       " '}',\n",
       " '~',\n",
       " 'accept',\n",
       " 'add',\n",
       " 'alt',\n",
       " 'altleft',\n",
       " 'altright',\n",
       " 'apps',\n",
       " 'backspace',\n",
       " 'browserback',\n",
       " 'browserfavorites',\n",
       " 'browserforward',\n",
       " 'browserhome',\n",
       " 'browserrefresh',\n",
       " 'browsersearch',\n",
       " 'browserstop',\n",
       " 'capslock',\n",
       " 'clear',\n",
       " 'convert',\n",
       " 'ctrl',\n",
       " 'ctrlleft',\n",
       " 'ctrlright',\n",
       " 'decimal',\n",
       " 'del',\n",
       " 'delete',\n",
       " 'divide',\n",
       " 'down',\n",
       " 'end',\n",
       " 'enter',\n",
       " 'esc',\n",
       " 'escape',\n",
       " 'execute',\n",
       " 'f1',\n",
       " 'f10',\n",
       " 'f11',\n",
       " 'f12',\n",
       " 'f13',\n",
       " 'f14',\n",
       " 'f15',\n",
       " 'f16',\n",
       " 'f17',\n",
       " 'f18',\n",
       " 'f19',\n",
       " 'f2',\n",
       " 'f20',\n",
       " 'f21',\n",
       " 'f22',\n",
       " 'f23',\n",
       " 'f24',\n",
       " 'f3',\n",
       " 'f4',\n",
       " 'f5',\n",
       " 'f6',\n",
       " 'f7',\n",
       " 'f8',\n",
       " 'f9',\n",
       " 'final',\n",
       " 'fn',\n",
       " 'hanguel',\n",
       " 'hangul',\n",
       " 'hanja',\n",
       " 'help',\n",
       " 'home',\n",
       " 'insert',\n",
       " 'junja',\n",
       " 'kana',\n",
       " 'kanji',\n",
       " 'launchapp1',\n",
       " 'launchapp2',\n",
       " 'launchmail',\n",
       " 'launchmediaselect',\n",
       " 'left',\n",
       " 'modechange',\n",
       " 'multiply',\n",
       " 'nexttrack',\n",
       " 'nonconvert',\n",
       " 'num0',\n",
       " 'num1',\n",
       " 'num2',\n",
       " 'num3',\n",
       " 'num4',\n",
       " 'num5',\n",
       " 'num6',\n",
       " 'num7',\n",
       " 'num8',\n",
       " 'num9',\n",
       " 'numlock',\n",
       " 'pagedown',\n",
       " 'pageup',\n",
       " 'pause',\n",
       " 'pgdn',\n",
       " 'pgup',\n",
       " 'playpause',\n",
       " 'prevtrack',\n",
       " 'print',\n",
       " 'printscreen',\n",
       " 'prntscrn',\n",
       " 'prtsc',\n",
       " 'prtscr',\n",
       " 'return',\n",
       " 'right',\n",
       " 'scrolllock',\n",
       " 'select',\n",
       " 'separator',\n",
       " 'shift',\n",
       " 'shiftleft',\n",
       " 'shiftright',\n",
       " 'sleep',\n",
       " 'space',\n",
       " 'stop',\n",
       " 'subtract',\n",
       " 'tab',\n",
       " 'up',\n",
       " 'volumedown',\n",
       " 'volumemute',\n",
       " 'volumeup',\n",
       " 'win',\n",
       " 'winleft',\n",
       " 'winright',\n",
       " 'yen',\n",
       " 'command',\n",
       " 'option',\n",
       " 'optionleft',\n",
       " 'optionright']"
      ]
     },
     "execution_count": 27,
     "metadata": {},
     "output_type": "execute_result"
    }
   ],
   "source": [
    "pyautogui.KEYBOARD_KEYS"
   ]
  },
  {
   "cell_type": "code",
   "execution_count": 31,
   "metadata": {
    "collapsed": true
   },
   "outputs": [],
   "source": [
    "pyautogui.press('f11')"
   ]
  },
  {
   "cell_type": "code",
   "execution_count": null,
   "metadata": {
    "collapsed": true
   },
   "outputs": [],
   "source": []
  },
  {
   "cell_type": "code",
   "execution_count": null,
   "metadata": {
    "collapsed": true
   },
   "outputs": [],
   "source": []
  },
  {
   "cell_type": "code",
   "execution_count": null,
   "metadata": {
    "collapsed": true
   },
   "outputs": [],
   "source": []
  },
  {
   "cell_type": "code",
   "execution_count": null,
   "metadata": {
    "collapsed": true
   },
   "outputs": [],
   "source": []
  },
  {
   "cell_type": "code",
   "execution_count": null,
   "metadata": {
    "collapsed": true
   },
   "outputs": [],
   "source": []
  },
  {
   "cell_type": "code",
   "execution_count": null,
   "metadata": {
    "collapsed": true
   },
   "outputs": [],
   "source": []
  },
  {
   "cell_type": "code",
   "execution_count": null,
   "metadata": {
    "collapsed": true
   },
   "outputs": [],
   "source": []
  }
 ],
 "metadata": {
  "kernelspec": {
   "display_name": "Python 3",
   "language": "python",
   "name": "python3"
  },
  "language_info": {
   "codemirror_mode": {
    "name": "ipython",
    "version": 3
   },
   "file_extension": ".py",
   "mimetype": "text/x-python",
   "name": "python",
   "nbconvert_exporter": "python",
   "pygments_lexer": "ipython3",
   "version": "3.7.4"
  }
 },
 "nbformat": 4,
 "nbformat_minor": 2
}
